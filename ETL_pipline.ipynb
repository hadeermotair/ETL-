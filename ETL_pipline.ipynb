{
  "nbformat": 4,
  "nbformat_minor": 0,
  "metadata": {
    "colab": {
      "provenance": []
    },
    "kernelspec": {
      "name": "python3",
      "display_name": "Python 3"
    },
    "language_info": {
      "name": "python"
    }
  },
  "cells": [
    {
      "cell_type": "code",
      "execution_count": null,
      "metadata": {
        "colab": {
          "base_uri": "https://localhost:8080/",
          "height": 1000
        },
        "id": "7566Sv9ZiJSx",
        "outputId": "51492c04-633f-4176-cf47-27625bd58446"
      },
      "outputs": [
        {
          "output_type": "stream",
          "name": "stdout",
          "text": [
            "Extracted Data:\n",
            "            id symbol      name  \\\n",
            "0      bitcoin    btc   Bitcoin   \n",
            "1     ethereum    eth  Ethereum   \n",
            "2       tether   usdt    Tether   \n",
            "3       solana    sol    Solana   \n",
            "4  binancecoin    bnb       BNB   \n",
            "\n",
            "                                               image  current_price  \\\n",
            "0  https://coin-images.coingecko.com/coins/images...   66830.000000   \n",
            "1  https://coin-images.coingecko.com/coins/images...    3299.640000   \n",
            "2  https://coin-images.coingecko.com/coins/images...       0.999763   \n",
            "3  https://coin-images.coingecko.com/coins/images...     185.760000   \n",
            "4  https://coin-images.coingecko.com/coins/images...     575.290000   \n",
            "\n",
            "      market_cap  market_cap_rank  fully_diluted_valuation  total_volume  \\\n",
            "0  1319515496441                1            1404245887855   37762505824   \n",
            "1   396819386712                2             396819386712   15769938693   \n",
            "2   114390776789                3             114390776789   39320522326   \n",
            "3    86359045192                4             107979547624    4365370063   \n",
            "4    83961282180                5              83961282180     806627671   \n",
            "\n",
            "    high_24h  ...  total_supply   max_supply       ath  ath_change_percentage  \\\n",
            "0  69908.000  ...  2.100000e+07   21000000.0  73738.00               -9.19839   \n",
            "1   3395.720  ...  1.202453e+08          NaN   4878.26              -32.37981   \n",
            "2      1.003  ...  1.144179e+11          NaN      1.32              -24.44546   \n",
            "3    193.760  ...  5.812004e+08          NaN    259.96              -28.51136   \n",
            "4    596.880  ...  1.458876e+08  200000000.0    717.48              -19.75636   \n",
            "\n",
            "                   ath_date        atl  atl_change_percentage  \\\n",
            "0  2024-03-14T07:10:36.635Z  67.810000           9.864092e+04   \n",
            "1  2021-11-10T14:24:19.604Z   0.432979           7.617591e+05   \n",
            "2  2018-07-24T00:00:00.000Z   0.572521           7.460644e+01   \n",
            "3  2021-11-06T21:54:35.825Z   0.500801           3.700880e+04   \n",
            "4  2024-06-06T14:10:59.816Z   0.039818           1.445811e+06   \n",
            "\n",
            "                   atl_date  \\\n",
            "0  2013-07-06T00:00:00.000Z   \n",
            "1  2015-10-20T00:00:00.000Z   \n",
            "2  2015-03-02T00:00:00.000Z   \n",
            "3  2020-05-11T19:35:23.449Z   \n",
            "4  2017-10-19T00:00:00.000Z   \n",
            "\n",
            "                                                 roi              last_updated  \n",
            "0                                               None  2024-07-29T17:28:53.122Z  \n",
            "1  {'times': 64.98600199352867, 'currency': 'btc'...  2024-07-29T17:28:53.826Z  \n",
            "2                                               None  2024-07-29T17:25:50.306Z  \n",
            "3                                               None  2024-07-29T17:28:16.456Z  \n",
            "4                                               None  2024-07-29T17:28:18.874Z  \n",
            "\n",
            "[5 rows x 26 columns]\n",
            "Transformed Data:\n",
            "            id symbol      name     price_usd  market_cap_usd  24h_volume_usd\n",
            "0      bitcoin    btc   Bitcoin  66830.000000   1319515496441     37762505824\n",
            "1     ethereum    eth  Ethereum   3299.640000    396819386712     15769938693\n",
            "2       tether   usdt    Tether      0.999763    114390776789     39320522326\n",
            "3       solana    sol    Solana    185.760000     86359045192      4365370063\n",
            "4  binancecoin    bnb       BNB    575.290000     83961282180       806627671\n"
          ]
        },
        {
          "output_type": "display_data",
          "data": {
            "text/plain": [
              "<IPython.core.display.Javascript object>"
            ],
            "application/javascript": [
              "\n",
              "    async function download(id, filename, size) {\n",
              "      if (!google.colab.kernel.accessAllowed) {\n",
              "        return;\n",
              "      }\n",
              "      const div = document.createElement('div');\n",
              "      const label = document.createElement('label');\n",
              "      label.textContent = `Downloading \"${filename}\": `;\n",
              "      div.appendChild(label);\n",
              "      const progress = document.createElement('progress');\n",
              "      progress.max = size;\n",
              "      div.appendChild(progress);\n",
              "      document.body.appendChild(div);\n",
              "\n",
              "      const buffers = [];\n",
              "      let downloaded = 0;\n",
              "\n",
              "      const channel = await google.colab.kernel.comms.open(id);\n",
              "      // Send a message to notify the kernel that we're ready.\n",
              "      channel.send({})\n",
              "\n",
              "      for await (const message of channel.messages) {\n",
              "        // Send a message to notify the kernel that we're ready.\n",
              "        channel.send({})\n",
              "        if (message.buffers) {\n",
              "          for (const buffer of message.buffers) {\n",
              "            buffers.push(buffer);\n",
              "            downloaded += buffer.byteLength;\n",
              "            progress.value = downloaded;\n",
              "          }\n",
              "        }\n",
              "      }\n",
              "      const blob = new Blob(buffers, {type: 'application/binary'});\n",
              "      const a = document.createElement('a');\n",
              "      a.href = window.URL.createObjectURL(blob);\n",
              "      a.download = filename;\n",
              "      div.appendChild(a);\n",
              "      a.click();\n",
              "      div.remove();\n",
              "    }\n",
              "  "
            ]
          },
          "metadata": {}
        },
        {
          "output_type": "display_data",
          "data": {
            "text/plain": [
              "<IPython.core.display.Javascript object>"
            ],
            "application/javascript": [
              "download(\"download_ab94589d-4e90-4e7a-ab64-120991bd77ad\", \"crypto_data.csv\", 583)"
            ]
          },
          "metadata": {}
        }
      ],
      "source": [
        "import requests\n",
        "import pandas as pd\n",
        "from google.colab import files\n",
        "url = 'https://api.coingecko.com/api/v3/coins/markets'\n",
        "params = {\n",
        "    'vs_currency': 'usd',  # Convert prices to USD\n",
        "    'order': 'market_cap_desc',  # Order by market cap\n",
        "    'per_page': 10,  # Show top 10 cryptocurrencies\n",
        "    'page': 1,\n",
        "    'sparkline': False\n",
        "}\n",
        "response = requests.get(url, params=params)\n",
        "data = response.json()\n",
        "df = pd.DataFrame(data)\n",
        "print(\"Extracted Data:\")\n",
        "print(df.head())\n",
        "df['price_usd'] = df['current_price']\n",
        "df['market_cap_usd'] = df['market_cap']\n",
        "df['24h_volume_usd'] = df['total_volume']\n",
        "df = df[['id', 'symbol', 'name', 'price_usd', 'market_cap_usd', '24h_volume_usd']]\n",
        "print(\"Transformed Data:\")\n",
        "print(df.head())\n",
        "df.to_csv('crypto_data.csv', index=False)\n",
        "df.head()\n",
        "files.download('crypto_data.csv')\n",
        "\n",
        "\n"
      ]
    }
  ]
}